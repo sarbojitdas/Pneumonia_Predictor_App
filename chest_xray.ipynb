{
 "cells": [
  {
   "cell_type": "code",
   "execution_count": 1,
   "id": "fba96105",
   "metadata": {},
   "outputs": [],
   "source": [
    "import os\n",
    "import numpy as np\n",
    "import matplotlib.pyplot as plt\n",
    "from tensorflow.keras.preprocessing.image import ImageDataGenerator\n",
    "from tensorflow.keras.models import Sequential\n",
    "from tensorflow.keras.layers import Conv2D, MaxPooling2D, Flatten, Dense, Dropout\n",
    "from tensorflow.keras.models import load_model\n",
    "import pickle"
   ]
  },
  {
   "cell_type": "code",
   "execution_count": 2,
   "id": "3acad34b",
   "metadata": {},
   "outputs": [],
   "source": [
    "# Directories\n",
    "train_dir = 'chest_xray/train'\n",
    "val_dir = 'chest_xray/val'\n",
    "test_dir = 'chest_xray/test'"
   ]
  },
  {
   "cell_type": "code",
   "execution_count": 3,
   "id": "11890fed",
   "metadata": {},
   "outputs": [],
   "source": [
    "# Image preprocessing\n",
    "train_datagen = ImageDataGenerator(rescale=1./255)\n",
    "val_datagen   = ImageDataGenerator(rescale=1./255)\n",
    "test_datagen  = ImageDataGenerator(rescale=1./255)"
   ]
  },
  {
   "cell_type": "code",
   "execution_count": 4,
   "id": "886a4125",
   "metadata": {},
   "outputs": [
    {
     "name": "stdout",
     "output_type": "stream",
     "text": [
      "Found 5216 images belonging to 2 classes.\n",
      "Found 16 images belonging to 2 classes.\n",
      "Found 624 images belonging to 2 classes.\n"
     ]
    }
   ],
   "source": [
    "train_data = train_datagen.flow_from_directory(train_dir, target_size=(150,150), class_mode='binary')\n",
    "val_data   = val_datagen.flow_from_directory(val_dir, target_size=(150,150), class_mode='binary')\n",
    "test_data  = test_datagen.flow_from_directory(test_dir, target_size=(150,150), class_mode='binary')"
   ]
  },
  {
   "cell_type": "code",
   "execution_count": 5,
   "id": "f7dbb4c5",
   "metadata": {},
   "outputs": [],
   "source": [
    "# CNN model\n",
    "model = Sequential([\n",
    "    Conv2D(32, (3,3), activation='relu', input_shape=(150,150,3)),\n",
    "    MaxPooling2D(2,2),\n",
    "    Conv2D(64, (3,3), activation='relu'),\n",
    "    MaxPooling2D(2,2),\n",
    "    Flatten(),\n",
    "    Dropout(0.5),\n",
    "    Dense(128, activation='relu'),\n",
    "    Dense(1, activation='sigmoid')\n",
    "])"
   ]
  },
  {
   "cell_type": "code",
   "execution_count": 6,
   "id": "952dc7f3",
   "metadata": {},
   "outputs": [
    {
     "name": "stdout",
     "output_type": "stream",
     "text": [
      "Epoch 1/5\n",
      "163/163 [==============================] - 214s 1s/step - loss: 0.3087 - accuracy: 0.8831 - val_loss: 0.4776 - val_accuracy: 0.6875\n",
      "Epoch 2/5\n",
      "163/163 [==============================] - 158s 971ms/step - loss: 0.1028 - accuracy: 0.9607 - val_loss: 0.7135 - val_accuracy: 0.6250\n",
      "Epoch 3/5\n",
      "163/163 [==============================] - 151s 928ms/step - loss: 0.1044 - accuracy: 0.9609 - val_loss: 0.7687 - val_accuracy: 0.6875\n",
      "Epoch 4/5\n",
      "163/163 [==============================] - 157s 961ms/step - loss: 0.0782 - accuracy: 0.9714 - val_loss: 0.1499 - val_accuracy: 0.8750\n",
      "Epoch 5/5\n",
      "163/163 [==============================] - 151s 926ms/step - loss: 0.0652 - accuracy: 0.9755 - val_loss: 0.2070 - val_accuracy: 0.9375\n"
     ]
    },
    {
     "data": {
      "text/plain": [
       "<keras.callbacks.History at 0x1bfc2b290c0>"
      ]
     },
     "execution_count": 6,
     "metadata": {},
     "output_type": "execute_result"
    }
   ],
   "source": [
    "\n",
    "model.compile(optimizer='adam', loss='binary_crossentropy', metrics=['accuracy'])\n",
    "model.fit(train_data, epochs=5, validation_data=val_data)"
   ]
  },
  {
   "cell_type": "code",
   "execution_count": 7,
   "id": "1e72a7b5",
   "metadata": {},
   "outputs": [],
   "source": [
    "# Save the model\n",
    "model.save('pneumonia_model.h5')"
   ]
  },
  {
   "cell_type": "code",
   "execution_count": 8,
   "id": "92825bd7",
   "metadata": {},
   "outputs": [],
   "source": [
    "\n",
    "# Save label map\n",
    "with open('class_indices.pkl', 'wb') as f:\n",
    "    pickle.dump(train_data.class_indices, f)"
   ]
  },
  {
   "cell_type": "code",
   "execution_count": null,
   "id": "890723d1",
   "metadata": {},
   "outputs": [],
   "source": []
  }
 ],
 "metadata": {
  "kernelspec": {
   "display_name": "Python 3 (ipykernel)",
   "language": "python",
   "name": "python3"
  },
  "language_info": {
   "codemirror_mode": {
    "name": "ipython",
    "version": 3
   },
   "file_extension": ".py",
   "mimetype": "text/x-python",
   "name": "python",
   "nbconvert_exporter": "python",
   "pygments_lexer": "ipython3",
   "version": "3.10.9"
  }
 },
 "nbformat": 4,
 "nbformat_minor": 5
}
